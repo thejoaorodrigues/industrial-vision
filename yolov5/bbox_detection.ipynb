{
 "cells": [
  {
   "cell_type": "markdown",
   "id": "9d4caa60",
   "metadata": {},
   "source": [
    "<h1>1. Install Dependencies</h1>"
   ]
  },
  {
   "cell_type": "code",
   "execution_count": null,
   "id": "6be675f0",
   "metadata": {},
   "outputs": [],
   "source": [
    "# Clone Ultratytics' yolov5 github repository to the Desktop\n",
    "\n",
    "## git clone https://github.com/ultralytics/yolov5"
   ]
  },
  {
   "cell_type": "code",
   "execution_count": null,
   "id": "036f61f5",
   "metadata": {},
   "outputs": [],
   "source": [
    "# Install Pytorch via conda\n",
    "# conda config --set ssl_verify false\n",
    "\n",
    "## conda install pytorch torchvision torchaudio pytorch-cuda=11.7 -c pytorch -c nvidia\n",
    "\n",
    "# Python version 3.9.13\n",
    "# Installed Pytorch via conda - version 1.13.0\n",
    "    # import torch\n",
    "    # print(torch.__version__)\n",
    "# Installed torchvision via conda - version 0.14.0\n",
    "    # import torchvision\n",
    "    # print(torchvision.__version__)\n",
    "# Installed torchaudio via conda - version 0.13.0\n",
    "    # import torchaudio\n",
    "    # print(torchaudio.__version__)\n",
    "# CUDA version 11.7\n",
    "    # nvcc --version"
   ]
  },
  {
   "cell_type": "code",
   "execution_count": null,
   "id": "8aab0a5a",
   "metadata": {},
   "outputs": [],
   "source": [
    "# Install yolov5 requirements\n",
    "\n",
    "## cd Desktop/yolov5\n",
    "## pip install -r requirements.txt"
   ]
  },
  {
   "cell_type": "markdown",
   "id": "a8796551",
   "metadata": {},
   "source": [
    "<h3>Import Python Modules</h3>"
   ]
  },
  {
   "cell_type": "code",
   "execution_count": 1,
   "id": "f3e2422c",
   "metadata": {},
   "outputs": [],
   "source": [
    "import torch\n",
    "from matplotlib import pyplot as plt\n",
    "import numpy as np\n",
    "import cv2\n",
    "\n",
    "import time\n",
    "import math\n",
    "import datetime\n",
    "from datetime import date\n",
    "import mysql.connector"
   ]
  },
  {
   "cell_type": "code",
   "execution_count": 2,
   "id": "f9aa324f",
   "metadata": {},
   "outputs": [
    {
     "name": "stdout",
     "output_type": "stream",
     "text": [
      "True\n",
      "1\n",
      "0\n",
      "<torch.cuda.device object at 0x000001986A64E6D0>\n",
      "Quadro M1200\n"
     ]
    }
   ],
   "source": [
    "# Check Pytorch Usability\n",
    "\n",
    "print(torch.cuda.is_available())\n",
    "print(torch.cuda.device_count())\n",
    "print(torch.cuda.current_device())\n",
    "print(torch.cuda.device(0))\n",
    "print(torch.cuda.get_device_name(0))"
   ]
  },
  {
   "cell_type": "markdown",
   "id": "6ed6ab26",
   "metadata": {},
   "source": [
    "<h3>Check Working Directory</h3>"
   ]
  },
  {
   "cell_type": "code",
   "execution_count": 3,
   "id": "ac1bf6c4",
   "metadata": {},
   "outputs": [
    {
     "data": {
      "text/plain": [
       "'C:\\\\Users\\\\Z0142848\\\\Desktop\\\\industrial_vision\\\\yolov5'"
      ]
     },
     "execution_count": 3,
     "metadata": {},
     "output_type": "execute_result"
    }
   ],
   "source": [
    "pwd # Print working directory"
   ]
  },
  {
   "cell_type": "code",
   "execution_count": 4,
   "id": "224f51de",
   "metadata": {},
   "outputs": [],
   "source": [
    "import os    \n",
    "os.environ['KMP_DUPLICATE_LIB_OK'] = 'True'"
   ]
  },
  {
   "cell_type": "markdown",
   "id": "2e09a60e",
   "metadata": {},
   "source": [
    "<h1>2. Load Model</h1>"
   ]
  },
  {
   "cell_type": "code",
   "execution_count": 5,
   "id": "e1530e4d",
   "metadata": {},
   "outputs": [
    {
     "name": "stderr",
     "output_type": "stream",
     "text": [
      "Using cache found in C:\\Users\\Z0142848/.cache\\torch\\hub\\ultralytics_yolov5_master\n",
      "YOLOv5  2022-12-13 Python-3.9.13 torch-1.13.0 CUDA:0 (Quadro M1200, 4096MiB)\n",
      "\n",
      "Fusing layers... \n",
      "YOLOv5s summary: 213 layers, 7225885 parameters, 0 gradients\n",
      "Adding AutoShape... \n"
     ]
    }
   ],
   "source": [
    "# Import module from Ultratytics repo\n",
    "\n",
    "#model = torch.hub.load('ultralytics/yolov5', 'yolov5n')\n",
    "model = torch.hub.load('ultralytics/yolov5', 'yolov5s')\n",
    "#model = torch.hub.load('ultralytics/yolov5', 'yolov5l')"
   ]
  },
  {
   "cell_type": "code",
   "execution_count": 6,
   "id": "2c5107a6",
   "metadata": {},
   "outputs": [
    {
     "data": {
      "text/plain": [
       "AutoShape(\n",
       "  (model): DetectMultiBackend(\n",
       "    (model): DetectionModel(\n",
       "      (model): Sequential(\n",
       "        (0): Conv(\n",
       "          (conv): Conv2d(3, 32, kernel_size=(6, 6), stride=(2, 2), padding=(2, 2))\n",
       "          (act): SiLU(inplace=True)\n",
       "        )\n",
       "        (1): Conv(\n",
       "          (conv): Conv2d(32, 64, kernel_size=(3, 3), stride=(2, 2), padding=(1, 1))\n",
       "          (act): SiLU(inplace=True)\n",
       "        )\n",
       "        (2): C3(\n",
       "          (cv1): Conv(\n",
       "            (conv): Conv2d(64, 32, kernel_size=(1, 1), stride=(1, 1))\n",
       "            (act): SiLU(inplace=True)\n",
       "          )\n",
       "          (cv2): Conv(\n",
       "            (conv): Conv2d(64, 32, kernel_size=(1, 1), stride=(1, 1))\n",
       "            (act): SiLU(inplace=True)\n",
       "          )\n",
       "          (cv3): Conv(\n",
       "            (conv): Conv2d(64, 64, kernel_size=(1, 1), stride=(1, 1))\n",
       "            (act): SiLU(inplace=True)\n",
       "          )\n",
       "          (m): Sequential(\n",
       "            (0): Bottleneck(\n",
       "              (cv1): Conv(\n",
       "                (conv): Conv2d(32, 32, kernel_size=(1, 1), stride=(1, 1))\n",
       "                (act): SiLU(inplace=True)\n",
       "              )\n",
       "              (cv2): Conv(\n",
       "                (conv): Conv2d(32, 32, kernel_size=(3, 3), stride=(1, 1), padding=(1, 1))\n",
       "                (act): SiLU(inplace=True)\n",
       "              )\n",
       "            )\n",
       "          )\n",
       "        )\n",
       "        (3): Conv(\n",
       "          (conv): Conv2d(64, 128, kernel_size=(3, 3), stride=(2, 2), padding=(1, 1))\n",
       "          (act): SiLU(inplace=True)\n",
       "        )\n",
       "        (4): C3(\n",
       "          (cv1): Conv(\n",
       "            (conv): Conv2d(128, 64, kernel_size=(1, 1), stride=(1, 1))\n",
       "            (act): SiLU(inplace=True)\n",
       "          )\n",
       "          (cv2): Conv(\n",
       "            (conv): Conv2d(128, 64, kernel_size=(1, 1), stride=(1, 1))\n",
       "            (act): SiLU(inplace=True)\n",
       "          )\n",
       "          (cv3): Conv(\n",
       "            (conv): Conv2d(128, 128, kernel_size=(1, 1), stride=(1, 1))\n",
       "            (act): SiLU(inplace=True)\n",
       "          )\n",
       "          (m): Sequential(\n",
       "            (0): Bottleneck(\n",
       "              (cv1): Conv(\n",
       "                (conv): Conv2d(64, 64, kernel_size=(1, 1), stride=(1, 1))\n",
       "                (act): SiLU(inplace=True)\n",
       "              )\n",
       "              (cv2): Conv(\n",
       "                (conv): Conv2d(64, 64, kernel_size=(3, 3), stride=(1, 1), padding=(1, 1))\n",
       "                (act): SiLU(inplace=True)\n",
       "              )\n",
       "            )\n",
       "            (1): Bottleneck(\n",
       "              (cv1): Conv(\n",
       "                (conv): Conv2d(64, 64, kernel_size=(1, 1), stride=(1, 1))\n",
       "                (act): SiLU(inplace=True)\n",
       "              )\n",
       "              (cv2): Conv(\n",
       "                (conv): Conv2d(64, 64, kernel_size=(3, 3), stride=(1, 1), padding=(1, 1))\n",
       "                (act): SiLU(inplace=True)\n",
       "              )\n",
       "            )\n",
       "          )\n",
       "        )\n",
       "        (5): Conv(\n",
       "          (conv): Conv2d(128, 256, kernel_size=(3, 3), stride=(2, 2), padding=(1, 1))\n",
       "          (act): SiLU(inplace=True)\n",
       "        )\n",
       "        (6): C3(\n",
       "          (cv1): Conv(\n",
       "            (conv): Conv2d(256, 128, kernel_size=(1, 1), stride=(1, 1))\n",
       "            (act): SiLU(inplace=True)\n",
       "          )\n",
       "          (cv2): Conv(\n",
       "            (conv): Conv2d(256, 128, kernel_size=(1, 1), stride=(1, 1))\n",
       "            (act): SiLU(inplace=True)\n",
       "          )\n",
       "          (cv3): Conv(\n",
       "            (conv): Conv2d(256, 256, kernel_size=(1, 1), stride=(1, 1))\n",
       "            (act): SiLU(inplace=True)\n",
       "          )\n",
       "          (m): Sequential(\n",
       "            (0): Bottleneck(\n",
       "              (cv1): Conv(\n",
       "                (conv): Conv2d(128, 128, kernel_size=(1, 1), stride=(1, 1))\n",
       "                (act): SiLU(inplace=True)\n",
       "              )\n",
       "              (cv2): Conv(\n",
       "                (conv): Conv2d(128, 128, kernel_size=(3, 3), stride=(1, 1), padding=(1, 1))\n",
       "                (act): SiLU(inplace=True)\n",
       "              )\n",
       "            )\n",
       "            (1): Bottleneck(\n",
       "              (cv1): Conv(\n",
       "                (conv): Conv2d(128, 128, kernel_size=(1, 1), stride=(1, 1))\n",
       "                (act): SiLU(inplace=True)\n",
       "              )\n",
       "              (cv2): Conv(\n",
       "                (conv): Conv2d(128, 128, kernel_size=(3, 3), stride=(1, 1), padding=(1, 1))\n",
       "                (act): SiLU(inplace=True)\n",
       "              )\n",
       "            )\n",
       "            (2): Bottleneck(\n",
       "              (cv1): Conv(\n",
       "                (conv): Conv2d(128, 128, kernel_size=(1, 1), stride=(1, 1))\n",
       "                (act): SiLU(inplace=True)\n",
       "              )\n",
       "              (cv2): Conv(\n",
       "                (conv): Conv2d(128, 128, kernel_size=(3, 3), stride=(1, 1), padding=(1, 1))\n",
       "                (act): SiLU(inplace=True)\n",
       "              )\n",
       "            )\n",
       "          )\n",
       "        )\n",
       "        (7): Conv(\n",
       "          (conv): Conv2d(256, 512, kernel_size=(3, 3), stride=(2, 2), padding=(1, 1))\n",
       "          (act): SiLU(inplace=True)\n",
       "        )\n",
       "        (8): C3(\n",
       "          (cv1): Conv(\n",
       "            (conv): Conv2d(512, 256, kernel_size=(1, 1), stride=(1, 1))\n",
       "            (act): SiLU(inplace=True)\n",
       "          )\n",
       "          (cv2): Conv(\n",
       "            (conv): Conv2d(512, 256, kernel_size=(1, 1), stride=(1, 1))\n",
       "            (act): SiLU(inplace=True)\n",
       "          )\n",
       "          (cv3): Conv(\n",
       "            (conv): Conv2d(512, 512, kernel_size=(1, 1), stride=(1, 1))\n",
       "            (act): SiLU(inplace=True)\n",
       "          )\n",
       "          (m): Sequential(\n",
       "            (0): Bottleneck(\n",
       "              (cv1): Conv(\n",
       "                (conv): Conv2d(256, 256, kernel_size=(1, 1), stride=(1, 1))\n",
       "                (act): SiLU(inplace=True)\n",
       "              )\n",
       "              (cv2): Conv(\n",
       "                (conv): Conv2d(256, 256, kernel_size=(3, 3), stride=(1, 1), padding=(1, 1))\n",
       "                (act): SiLU(inplace=True)\n",
       "              )\n",
       "            )\n",
       "          )\n",
       "        )\n",
       "        (9): SPPF(\n",
       "          (cv1): Conv(\n",
       "            (conv): Conv2d(512, 256, kernel_size=(1, 1), stride=(1, 1))\n",
       "            (act): SiLU(inplace=True)\n",
       "          )\n",
       "          (cv2): Conv(\n",
       "            (conv): Conv2d(1024, 512, kernel_size=(1, 1), stride=(1, 1))\n",
       "            (act): SiLU(inplace=True)\n",
       "          )\n",
       "          (m): MaxPool2d(kernel_size=5, stride=1, padding=2, dilation=1, ceil_mode=False)\n",
       "        )\n",
       "        (10): Conv(\n",
       "          (conv): Conv2d(512, 256, kernel_size=(1, 1), stride=(1, 1))\n",
       "          (act): SiLU(inplace=True)\n",
       "        )\n",
       "        (11): Upsample(scale_factor=2.0, mode=nearest)\n",
       "        (12): Concat()\n",
       "        (13): C3(\n",
       "          (cv1): Conv(\n",
       "            (conv): Conv2d(512, 128, kernel_size=(1, 1), stride=(1, 1))\n",
       "            (act): SiLU(inplace=True)\n",
       "          )\n",
       "          (cv2): Conv(\n",
       "            (conv): Conv2d(512, 128, kernel_size=(1, 1), stride=(1, 1))\n",
       "            (act): SiLU(inplace=True)\n",
       "          )\n",
       "          (cv3): Conv(\n",
       "            (conv): Conv2d(256, 256, kernel_size=(1, 1), stride=(1, 1))\n",
       "            (act): SiLU(inplace=True)\n",
       "          )\n",
       "          (m): Sequential(\n",
       "            (0): Bottleneck(\n",
       "              (cv1): Conv(\n",
       "                (conv): Conv2d(128, 128, kernel_size=(1, 1), stride=(1, 1))\n",
       "                (act): SiLU(inplace=True)\n",
       "              )\n",
       "              (cv2): Conv(\n",
       "                (conv): Conv2d(128, 128, kernel_size=(3, 3), stride=(1, 1), padding=(1, 1))\n",
       "                (act): SiLU(inplace=True)\n",
       "              )\n",
       "            )\n",
       "          )\n",
       "        )\n",
       "        (14): Conv(\n",
       "          (conv): Conv2d(256, 128, kernel_size=(1, 1), stride=(1, 1))\n",
       "          (act): SiLU(inplace=True)\n",
       "        )\n",
       "        (15): Upsample(scale_factor=2.0, mode=nearest)\n",
       "        (16): Concat()\n",
       "        (17): C3(\n",
       "          (cv1): Conv(\n",
       "            (conv): Conv2d(256, 64, kernel_size=(1, 1), stride=(1, 1))\n",
       "            (act): SiLU(inplace=True)\n",
       "          )\n",
       "          (cv2): Conv(\n",
       "            (conv): Conv2d(256, 64, kernel_size=(1, 1), stride=(1, 1))\n",
       "            (act): SiLU(inplace=True)\n",
       "          )\n",
       "          (cv3): Conv(\n",
       "            (conv): Conv2d(128, 128, kernel_size=(1, 1), stride=(1, 1))\n",
       "            (act): SiLU(inplace=True)\n",
       "          )\n",
       "          (m): Sequential(\n",
       "            (0): Bottleneck(\n",
       "              (cv1): Conv(\n",
       "                (conv): Conv2d(64, 64, kernel_size=(1, 1), stride=(1, 1))\n",
       "                (act): SiLU(inplace=True)\n",
       "              )\n",
       "              (cv2): Conv(\n",
       "                (conv): Conv2d(64, 64, kernel_size=(3, 3), stride=(1, 1), padding=(1, 1))\n",
       "                (act): SiLU(inplace=True)\n",
       "              )\n",
       "            )\n",
       "          )\n",
       "        )\n",
       "        (18): Conv(\n",
       "          (conv): Conv2d(128, 128, kernel_size=(3, 3), stride=(2, 2), padding=(1, 1))\n",
       "          (act): SiLU(inplace=True)\n",
       "        )\n",
       "        (19): Concat()\n",
       "        (20): C3(\n",
       "          (cv1): Conv(\n",
       "            (conv): Conv2d(256, 128, kernel_size=(1, 1), stride=(1, 1))\n",
       "            (act): SiLU(inplace=True)\n",
       "          )\n",
       "          (cv2): Conv(\n",
       "            (conv): Conv2d(256, 128, kernel_size=(1, 1), stride=(1, 1))\n",
       "            (act): SiLU(inplace=True)\n",
       "          )\n",
       "          (cv3): Conv(\n",
       "            (conv): Conv2d(256, 256, kernel_size=(1, 1), stride=(1, 1))\n",
       "            (act): SiLU(inplace=True)\n",
       "          )\n",
       "          (m): Sequential(\n",
       "            (0): Bottleneck(\n",
       "              (cv1): Conv(\n",
       "                (conv): Conv2d(128, 128, kernel_size=(1, 1), stride=(1, 1))\n",
       "                (act): SiLU(inplace=True)\n",
       "              )\n",
       "              (cv2): Conv(\n",
       "                (conv): Conv2d(128, 128, kernel_size=(3, 3), stride=(1, 1), padding=(1, 1))\n",
       "                (act): SiLU(inplace=True)\n",
       "              )\n",
       "            )\n",
       "          )\n",
       "        )\n",
       "        (21): Conv(\n",
       "          (conv): Conv2d(256, 256, kernel_size=(3, 3), stride=(2, 2), padding=(1, 1))\n",
       "          (act): SiLU(inplace=True)\n",
       "        )\n",
       "        (22): Concat()\n",
       "        (23): C3(\n",
       "          (cv1): Conv(\n",
       "            (conv): Conv2d(512, 256, kernel_size=(1, 1), stride=(1, 1))\n",
       "            (act): SiLU(inplace=True)\n",
       "          )\n",
       "          (cv2): Conv(\n",
       "            (conv): Conv2d(512, 256, kernel_size=(1, 1), stride=(1, 1))\n",
       "            (act): SiLU(inplace=True)\n",
       "          )\n",
       "          (cv3): Conv(\n",
       "            (conv): Conv2d(512, 512, kernel_size=(1, 1), stride=(1, 1))\n",
       "            (act): SiLU(inplace=True)\n",
       "          )\n",
       "          (m): Sequential(\n",
       "            (0): Bottleneck(\n",
       "              (cv1): Conv(\n",
       "                (conv): Conv2d(256, 256, kernel_size=(1, 1), stride=(1, 1))\n",
       "                (act): SiLU(inplace=True)\n",
       "              )\n",
       "              (cv2): Conv(\n",
       "                (conv): Conv2d(256, 256, kernel_size=(3, 3), stride=(1, 1), padding=(1, 1))\n",
       "                (act): SiLU(inplace=True)\n",
       "              )\n",
       "            )\n",
       "          )\n",
       "        )\n",
       "        (24): Detect(\n",
       "          (m): ModuleList(\n",
       "            (0): Conv2d(128, 255, kernel_size=(1, 1), stride=(1, 1))\n",
       "            (1): Conv2d(256, 255, kernel_size=(1, 1), stride=(1, 1))\n",
       "            (2): Conv2d(512, 255, kernel_size=(1, 1), stride=(1, 1))\n",
       "          )\n",
       "        )\n",
       "      )\n",
       "    )\n",
       "  )\n",
       ")"
      ]
     },
     "execution_count": 6,
     "metadata": {},
     "output_type": "execute_result"
    }
   ],
   "source": [
    "# Check Model in Use\n",
    "\n",
    "model"
   ]
  },
  {
   "cell_type": "markdown",
   "id": "6a4f58a3",
   "metadata": {},
   "source": [
    "<h1>3. Make Detections</h1>"
   ]
  },
  {
   "cell_type": "code",
   "execution_count": null,
   "id": "91d8d219",
   "metadata": {},
   "outputs": [],
   "source": [
    "# First prediction\n",
    "\n",
    "img = 'https://raw.githubusercontent.com/ultralytics/yolov5/master/data/images/bus.jpg'"
   ]
  },
  {
   "cell_type": "code",
   "execution_count": null,
   "id": "c5cbe534",
   "metadata": {},
   "outputs": [],
   "source": [
    "# Make detections of image from model, and print the result\n",
    "\n",
    "results = model(img)\n",
    "results.print()"
   ]
  },
  {
   "cell_type": "code",
   "execution_count": null,
   "id": "b2093bc8",
   "metadata": {},
   "outputs": [],
   "source": [
    "%matplotlib inline\n",
    "plt.imshow(np.squeeze(results.render()))\n",
    "plt.show()"
   ]
  },
  {
   "cell_type": "code",
   "execution_count": null,
   "id": "65043dd3",
   "metadata": {},
   "outputs": [],
   "source": [
    "results.render()"
   ]
  },
  {
   "cell_type": "code",
   "execution_count": null,
   "id": "23e8040c",
   "metadata": {},
   "outputs": [],
   "source": [
    "results.xyxy"
   ]
  },
  {
   "cell_type": "code",
   "execution_count": null,
   "id": "3da5a924",
   "metadata": {},
   "outputs": [],
   "source": [
    "# Second Prediction\n",
    "\n",
    "img2 = 'traffic.jpg'"
   ]
  },
  {
   "cell_type": "code",
   "execution_count": null,
   "id": "88528704",
   "metadata": {},
   "outputs": [],
   "source": [
    "results2 = model(img2)\n",
    "%matplotlib inline\n",
    "plt.imshow(np.squeeze(results2.render()))\n",
    "plt.show()"
   ]
  },
  {
   "cell_type": "markdown",
   "id": "aab32efc",
   "metadata": {},
   "source": [
    "<h1>4. Real Time Detection</h1>"
   ]
  },
  {
   "cell_type": "code",
   "execution_count": null,
   "id": "3305754d",
   "metadata": {},
   "outputs": [],
   "source": [
    "# ORIGINAL W/ FPS\n",
    "\n",
    "cap = cv2.VideoCapture('traffic0.mp4')\n",
    "startTime = 0\n",
    "\n",
    "height = cap.get(cv2.CAP_PROP_FRAME_HEIGHT)\n",
    "width = cap.get(cv2.CAP_PROP_FRAME_WIDTH)\n",
    "\n",
    "while cap.isOpened():\n",
    "    ret, frame = cap.read()\n",
    "    \n",
    "    # Draw guidelines\n",
    "    cv2.line(frame, (0, int(height/3)), (int(width), int(height/3)), (220,220,220), 1)\n",
    "    cv2.line(frame, (0, int(2*height/3)), (int(width), int(2*height/3)), (220,220,220), 1)\n",
    "    cv2.line(frame, (int(width/3), 0), (int(width/3), int(height)), (220,220,220), 1)\n",
    "    cv2.line(frame, (int(2*width/3), 0), (int(2*width/3), int(height)), (220,220,220), 1)\n",
    "    \n",
    "    #Make detections\n",
    "    results = model(frame)\n",
    "    \n",
    "    #results.print()\n",
    "    #cv2.line(np.squeeze(results.render()), (0, 0), (1000, 1000),(0,255,0), 10)\n",
    "    \n",
    "    #FPS\n",
    "    currentTime = time.time()\n",
    "    fps = 1/(currentTime - startTime)\n",
    "    startTime = currentTime\n",
    "    cv2.putText(frame, \"FPS: \" + str(int(fps)), (20, 40), cv2.FONT_HERSHEY_PLAIN, 2, (0,255,0),3)  \n",
    "    \n",
    "    cv2.imshow('YOLO', np.squeeze(results.render()))\n",
    "    #cv2.imshow('YOLO', frame)\n",
    "\n",
    "    if cv2.waitKey(10) & 0xFF == ord('q'): \n",
    "        break\n",
    "        \n",
    "cap.release()\n",
    "cv2.destroyAllWindows()"
   ]
  },
  {
   "cell_type": "code",
   "execution_count": null,
   "id": "19ee5195",
   "metadata": {},
   "outputs": [],
   "source": [
    "# DEPRECATED\n",
    "\n",
    "#cap = cv2.VideoCapture('traffic0.mp4')\n",
    "#cap = cv2.VideoCapture(0)\n",
    "\n",
    "startTime = 0\n",
    "# height = cap.get(cv2.CAP_PROP_FRAME_HEIGHT)\n",
    "# width = cap.get(cv2.CAP_PROP_FRAME_WIDTH)\n",
    "\n",
    "#print(height, width)\n",
    "\n",
    "while cap.isOpened():\n",
    "    ret, frame = cap.read()\n",
    "    distances = []\n",
    "    \n",
    "    # Draw guidelines\n",
    "    # cv2.line(frame, (0, int(height/3)), (int(width), int(height/3)), (220,220,220), 1)\n",
    "    # cv2.line(frame, (0, int(2*height/3)), (int(width), int(2*height/3)), (220,220,220), 1)\n",
    "    # cv2.line(frame, (int(width/3), 0), (int(width/3), int(height)), (220,220,220), 1)\n",
    "    # cv2.line(frame, (int(2*width/3), 0), (int(2*width/3), int(height)), (220,220,220), 1)\n",
    "    \n",
    "    #Make detections\n",
    "    results = model(frame)\n",
    "    #results.print()\n",
    "    \n",
    "    for i in range(len(results.xyxy[0])):\n",
    "        print(results.xyxy[0][i])\n",
    "        if i == 0:\n",
    "            iv_centroidX = (results.xyxy[0][i][0].item()+results.xyxy[0][i][2].item())/2\n",
    "            iv_centroidY = (results.xyxy[0][i][1].item()+results.xyxy[0][i][3].item())/2\n",
    "            \n",
    "            #print(org)\n",
    "            # PRINT CENTROIDS\n",
    "            cv2.circle(frame, org1, 2, (255,255,255), 2)\n",
    "        else:\n",
    "            # CHECK CURRENT CENTROID\n",
    "            iv_centroidX = (results.xyxy[0][i][0].item()+results.xyxy[0][i][2].item())/2\n",
    "            iv_centroidY = (results.xyxy[0][i][1].item()+results.xyxy[0][i][3].item())/2\n",
    "            \n",
    "            # CHECK PREVIOUS CENTROID\n",
    "            iv_centroidXp = (results.xyxy[0][i-1][0].item()+results.xyxy[0][i-1][2].item())/2\n",
    "            iv_centroidYp = (results.xyxy[0][i-1][1].item()+results.xyxy[0][i-1][3].item())/2\n",
    "            \n",
    "            # DETERMINE TUPLE WITH XY COORDS\n",
    "            org1 = [int(iv_centroidX), int(iv_centroidY)]\n",
    "            org2 = [int(iv_centroidXp), int(iv_centroidYp)]\n",
    "            \n",
    "            # PASS INFORMATION TO THE DISTANCES LIST\n",
    "            distances.append([org1, org2])\n",
    "            #print('Distances', distances)\n",
    "            #distances = sorted(distances)\n",
    "            distances.sort(key=lambda x: x[0])\n",
    "            #print('Distances-Sorted', distances)\n",
    "            \n",
    "            # PRINT CENTROIDS\n",
    "            cv2.circle(frame, org1, 2, (245,245,245), 2)\n",
    "            if math.sqrt((org2[0]-org1[0])**2+(org2[1]-org1[1])**2) < 100:\n",
    "                cv2.line(frame, org1, org2, (0,0,255), 1)\n",
    "            else:\n",
    "                cv2.line(frame, org1, org2, (255,255,255), 1)\n",
    "            \n",
    "        \n",
    "    #FPS\n",
    "    currentTime = time.time()\n",
    "    fps = 1/(currentTime - startTime)\n",
    "    startTime = currentTime\n",
    "    cv2.putText(frame, \"FPS: \" + str(int(fps)), (20, 40), cv2.FONT_HERSHEY_PLAIN, 2, (0,255,0),3)  \n",
    "    \n",
    "    \n",
    "    cv2.imshow('YOLO', np.squeeze(results.render()))\n",
    "        \n",
    "    if cv2.waitKey(2) & 0xFF == ord('p'):\n",
    "        print(f'*** DB COMMIT ***')\n",
    "        #d=√((x_2-x_1)²+(y_2-y_1)²)\n",
    "        for i in range(len(distances)):\n",
    "            print(f'DISTANCE {i}: {math.sqrt((distances[i][1][0]-distances[i][0][0])**2+(distances[i][1][1]-distances[i][0][1])**2)}')\n",
    "    \n",
    "    \n",
    "    if cv2.waitKey(2) & 0xFF == ord('q'): \n",
    "        break\n",
    "cap.release()\n",
    "cv2.destroyAllWindows()"
   ]
  },
  {
   "cell_type": "code",
   "execution_count": null,
   "id": "97c92d02",
   "metadata": {},
   "outputs": [],
   "source": [
    "#conn = mysql.connector.connect(host = 'localhost', user = 'root', passwd = '', database = 'industrial_vision')\n",
    "#cursorObject = conn.cursor()"
   ]
  },
  {
   "cell_type": "code",
   "execution_count": 7,
   "id": "6d457ce5",
   "metadata": {},
   "outputs": [],
   "source": [
    "cap = cv2.VideoCapture('traffic0.mp4')\n",
    "startTime = 0\n",
    "\n",
    "while cap.isOpened():\n",
    "    ret, frame = cap.read()\n",
    "    \n",
    "    distances = []\n",
    "    cars = []\n",
    "    \n",
    "    #Make detections\n",
    "    results = model(frame)\n",
    "\n",
    "    for i in range(len(results.xyxy[0])):\n",
    "        clss = results.xyxy[0][i][5].item()\n",
    "        if clss == 2:\n",
    "            cars.append(clss)\n",
    "        iv_centroidX = (results.xyxy[0][i][0].item()+results.xyxy[0][i][2].item())/2\n",
    "        iv_centroidY = (results.xyxy[0][i][1].item()+results.xyxy[0][i][3].item())/2\n",
    "\n",
    "        # DETERMINE TUPLE WITH XY COORDS\n",
    "        org1 = (int(iv_centroidX), int(iv_centroidY))\n",
    "        distances.append(org1)\n",
    "\n",
    "    else:\n",
    "        distances.sort(key=lambda x: x[0])\n",
    "\n",
    "        for i in range(len(distances)):\n",
    "            # CHECK CURRENT CENTROID\n",
    "            iv_centroidX = distances[i][0]\n",
    "            iv_centroidY = distances[i][1]\n",
    "            org1 = (iv_centroidX, iv_centroidY)\n",
    "            cv2.circle(frame, org1, 2, (255,255,255), 2)\n",
    "            if i == 0:\n",
    "                pass\n",
    "            else:\n",
    "                # CHECK PREVIOUS CENTROID\n",
    "                iv_centroidXp = distances[i-1][0]\n",
    "                iv_centroidYp = distances[i-1][1]\n",
    "\n",
    "                # DETERMINE TUPLE WITH XY COORDS\n",
    "                org1 = [int(iv_centroidX), int(iv_centroidY)]\n",
    "                org2 = [int(iv_centroidXp), int(iv_centroidYp)]\n",
    "\n",
    "                if math.sqrt((org2[0]-org1[0])**2+(org2[1]-org1[1])**2) < 100:\n",
    "                    cv2.line(frame, org2, org1, (0,0,255), 2)\n",
    "                else:\n",
    "                    cv2.line(frame, org2, org1, (240,240,240), 2)\n",
    "\n",
    "    #FPS\n",
    "    currentTime = time.time()\n",
    "    fps = 1/(currentTime - startTime)\n",
    "    startTime = currentTime\n",
    "    cv2.putText(frame, \"FPS: \" + str(int(fps)), (20, 40), cv2.FONT_HERSHEY_PLAIN, 2, (0,255,0), 3)\n",
    "    cv2.putText(frame, \"Cars: \" + str(int(len(cars))), (20, 80), cv2.FONT_HERSHEY_PLAIN, 2, (0,255,0),3)\n",
    "\n",
    "    cv2.imshow('YOLO', np.squeeze(results.render()))\n",
    "    \n",
    "    pressedKey = cv2.waitKey(1) & 0xFF\n",
    "    if pressedKey == ord('q'):\n",
    "        break\n",
    "    elif pressedKey == ord('p'):\n",
    "        print(f'*** DB COMMIT ***')\n",
    "        #for i in range(len(distances)-1):\n",
    "        #    # print(f'DISTANCE {i}: {math.sqrt((distances[i+1][0]-distances[i][0])**2+(distances[i+1][1]-distances[i][1])**2)}')\n",
    "        #    dateCommit = datetime.datetime.now().strftime(\"%x %X\")\n",
    "        #    dist1, dist2, dist3 = distances[:3]\n",
    "        #    print(dist1, dist2, dist3)\n",
    "        #    #query = 'INSERT INTO distance_test (date, dist1, dist2, dist3, dist4, dist5) VALUES (%s, %s, %s, %s, %s, %s)'\n",
    "        #    #cursorObject.execute(query, (dateCommit, dist1, dist2, dist3, dist4, dist5))\n",
    "        #    #conn.commit()\n",
    "    \n",
    "cap.release()\n",
    "cv2.destroyAllWindows()  "
   ]
  },
  {
   "cell_type": "markdown",
   "id": "8594a2bb",
   "metadata": {},
   "source": [
    "<h1>5. Train from Scratch</h1>"
   ]
  },
  {
   "cell_type": "code",
   "execution_count": null,
   "id": "a211461e",
   "metadata": {},
   "outputs": [],
   "source": [
    "# Import dependencies\n",
    "\n",
    "import uuid\n",
    "import os\n",
    "import time"
   ]
  },
  {
   "cell_type": "code",
   "execution_count": null,
   "id": "7d52646d",
   "metadata": {},
   "outputs": [],
   "source": [
    "IMAGES_PATH = os.path.join('data', 'images') # Where the images are going to be saved\n",
    "#labels = ['plastic_clip', 'metalic_clip', 'tape', 'oeticker', 'orientation_rh', 'bag_ear']\n",
    "labels = ['orientation_rh'] # Labels used\n",
    "number_images = 30 # Number of images to take pictures"
   ]
  },
  {
   "cell_type": "code",
   "execution_count": null,
   "id": "10a4cf0d",
   "metadata": {},
   "outputs": [],
   "source": [
    "cap = cv2.VideoCapture(0)\n",
    "# Loop through labels\n",
    "for label in labels:\n",
    "    print('Collecting images for {}'.format(label))\n",
    "    time.sleep(5)\n",
    "    \n",
    "    #Loop through image range\n",
    "    for img_num in range(number_images):\n",
    "        print('Collecting images for {}, image number {}'.format(label, img_num))\n",
    "        \n",
    "        # Web cam feed\n",
    "        ret, frame = cap.read()\n",
    "        \n",
    "        # Naming out image path\n",
    "        imgname = os.path.join(IMAGES_PATH, label+'.'+str(uuid.uuid1())+'.jpg')\n",
    "        \n",
    "        # Writes out image path\n",
    "        cv2.imwrite(imgname, frame)\n",
    "        \n",
    "        # Render to the screen \n",
    "        cv2.imshow('Image Collection', frame)\n",
    "        \n",
    "        # Give time between capture iteractions\n",
    "        time.sleep(2)\n",
    "        \n",
    "        # Break character\n",
    "        if cv2.waitKey(10) & 0xff == ord('q'):\n",
    "            break\n",
    "\n",
    "# Release all windows\n",
    "cap.release()\n",
    "cv2.destroyAllWindows()"
   ]
  },
  {
   "cell_type": "markdown",
   "id": "68bb714c",
   "metadata": {},
   "source": [
    "<h2>Label Images</h2>"
   ]
  },
  {
   "cell_type": "code",
   "execution_count": null,
   "id": "64b537d0",
   "metadata": {},
   "outputs": [],
   "source": [
    "# Clone git repository for the labeling of images\n",
    "!git clone https://github.com/tzutalin/labelImg"
   ]
  },
  {
   "cell_type": "code",
   "execution_count": null,
   "id": "3d203788",
   "metadata": {},
   "outputs": [],
   "source": [
    "# Install dependencies\n",
    "!pip install pyqt5 lxml --upgrade\n",
    "!cd labelImg && pyrcc5 -o libs/resources.py resources.qrc"
   ]
  },
  {
   "cell_type": "markdown",
   "id": "6c9d28d1",
   "metadata": {},
   "source": [
    "<h3>Train Model</h3>"
   ]
  },
  {
   "cell_type": "markdown",
   "id": "25001520",
   "metadata": {},
   "source": [
    "<h5>Explanation of attributes</h5>\n",
    "<ol>\n",
    "    <li><b>batch:</b> batch size</li>\n",
    "    <li><b>epochs:</b> number of epochs to train for</li>\n",
    "    <li><b>data:</b> yaml file that contains info about the dataset (path of images, labels...)</li>\n",
    "    <li><b>workers:</b> number of CPU workers</li>\n",
    "    <li><b>cfg:</b> model architecture</li>\n",
    "    <li><b>weights:</b> pretrained weights we want to start training for</li>\n",
    "    <li><b>name:</b> train logs; weights to be stored on folder names runs/train/name</li>\n",
    "    <li><b>hyp:</b> yaml file that describes hyperparameter choices</li>\n",
    "</ol>"
   ]
  },
  {
   "cell_type": "code",
   "execution_count": null,
   "id": "807bed58",
   "metadata": {},
   "outputs": [],
   "source": [
    "!cd yolov5 && python train.py --img 320 --batch 32 --epochs 2500 --data dataset.yaml --weights yolov5s.pt"
   ]
  },
  {
   "cell_type": "markdown",
   "id": "f2ab65cb",
   "metadata": {},
   "source": [
    "<h1>6. Load Custom Model</h1>"
   ]
  },
  {
   "cell_type": "code",
   "execution_count": null,
   "id": "cd7cd773",
   "metadata": {},
   "outputs": [],
   "source": [
    "model = torch.hub.load('ultralytics/yolov5', 'custom', path='yolov5/runs/train/exp13/weights/best.pt', force_reload=True)"
   ]
  },
  {
   "cell_type": "code",
   "execution_count": null,
   "id": "a8f78bdc",
   "metadata": {},
   "outputs": [],
   "source": [
    "test_img = 'plastic_clip.5e31a4dd-779d-11ed-a501-f8344123e98d.jpg'\n",
    "img = os.path.join('data', 'images', test_img)\n",
    "results = model(img)\n",
    "results.print()"
   ]
  },
  {
   "cell_type": "code",
   "execution_count": null,
   "id": "4d82ae3c",
   "metadata": {},
   "outputs": [],
   "source": [
    "%matplotlib inline\n",
    "plt.imshow(np.squeeze(results.render()))\n",
    "plt.show()"
   ]
  },
  {
   "cell_type": "code",
   "execution_count": null,
   "id": "2d1de5cc",
   "metadata": {},
   "outputs": [],
   "source": [
    "cap = cv2.VideoCapture(0)\n",
    "while cap.isOpened():\n",
    "    ret, frame = cap.read()\n",
    "    \n",
    "    #Make detections\n",
    "    results = model(frame)\n",
    "    \n",
    "    cv2.imshow('YOLO', np.squeeze(results.render()))\n",
    "    if cv2.waitKey(10) & 0xFF == ord('q'): \n",
    "        break\n",
    "cap.release()\n",
    "cv2.destroyAllWindows()"
   ]
  },
  {
   "cell_type": "markdown",
   "id": "54215ddd",
   "metadata": {},
   "source": [
    "<h3>Additional Tests</h3>"
   ]
  },
  {
   "cell_type": "code",
   "execution_count": null,
   "id": "dd44af3b",
   "metadata": {},
   "outputs": [],
   "source": [
    "# Crop images detected to an external page\n",
    "crops = results.crop(save=True)\n",
    "crops"
   ]
  },
  {
   "cell_type": "code",
   "execution_count": null,
   "id": "84edd431",
   "metadata": {},
   "outputs": [],
   "source": [
    "results"
   ]
  },
  {
   "cell_type": "code",
   "execution_count": null,
   "id": "6fd18c96",
   "metadata": {},
   "outputs": [],
   "source": [
    "results.pandas().xyxy[0]"
   ]
  },
  {
   "cell_type": "code",
   "execution_count": null,
   "id": "a97d4012",
   "metadata": {},
   "outputs": [],
   "source": [
    "results.pandas()"
   ]
  },
  {
   "cell_type": "code",
   "execution_count": null,
   "id": "009674da",
   "metadata": {},
   "outputs": [],
   "source": [
    "# Print coordinates and confidence for names and classes\n",
    "print(results.pandas().xyxy[0].keys())\n",
    "\n",
    "# print(type(results.xyxy[0]))\n",
    "\n",
    "# for tensor in results.xyxy[0]:\n",
    "#     print(tensor[].item())\n",
    "\n",
    "for i in range (len(results.xyxy[0])):\n",
    "    centroid = [(results.xyxy[0][i][0].item()+results.xyxy[0][i][2].item())/2, (results.xyxy[0][i][1].item()+results.xyxy[0][i][3].item())/2]\n",
    "    print(centroid)\n",
    "    #for j in range(len(results.xyxy[0][i])):\n",
    "        #print(results.xyxy[0][i][j])"
   ]
  },
  {
   "cell_type": "code",
   "execution_count": null,
   "id": "b070a1e8",
   "metadata": {},
   "outputs": [],
   "source": [
    "print(results.xyxy[0][0][0].item())\n",
    "print(results.xyxy[0][0][2].item())\n",
    "print(results.xyxy[0][0][2].item() - results.xyxy[0][0][0].item())"
   ]
  },
  {
   "cell_type": "code",
   "execution_count": null,
   "id": "f5c82f52",
   "metadata": {},
   "outputs": [],
   "source": [
    "results.xyxy"
   ]
  },
  {
   "cell_type": "code",
   "execution_count": null,
   "id": "bd6b8997",
   "metadata": {},
   "outputs": [],
   "source": [
    "import requests\n",
    "requests.get(\"http://google.com\")"
   ]
  }
 ],
 "metadata": {
  "kernelspec": {
   "display_name": "Python 3 (ipykernel)",
   "language": "python",
   "name": "python3"
  },
  "language_info": {
   "codemirror_mode": {
    "name": "ipython",
    "version": 3
   },
   "file_extension": ".py",
   "mimetype": "text/x-python",
   "name": "python",
   "nbconvert_exporter": "python",
   "pygments_lexer": "ipython3",
   "version": "3.9.13"
  }
 },
 "nbformat": 4,
 "nbformat_minor": 5
}
