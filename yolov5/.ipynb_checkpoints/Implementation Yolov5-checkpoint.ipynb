{
 "cells": [
  {
   "cell_type": "markdown",
   "id": "90250ac1",
   "metadata": {},
   "source": [
    "<h1>1. Install Dependencies</h1>"
   ]
  },
  {
   "cell_type": "code",
   "execution_count": null,
   "id": "dda2acc7",
   "metadata": {},
   "outputs": [],
   "source": [
    "# Clone Ultratytics' yolov5 github repository to the Desktop\n",
    "\n",
    "## git clone https://github.com/ultralytics/yolov5"
   ]
  },
  {
   "cell_type": "code",
   "execution_count": null,
   "id": "92606fbc",
   "metadata": {},
   "outputs": [],
   "source": [
    "# Install Pytorch via conda\n",
    "# conda config --set ssl_verify false\n",
    "\n",
    "## conda install pytorch torchvision torchaudio pytorch-cuda=11.7 -c pytorch -c nvidia\n",
    "\n",
    "# Python version 3.9.13\n",
    "# Installed Pytorch via conda - version 1.13.0\n",
    "# Installed torchvision via conda - version 0.14.0\n",
    "# Installed torchaudio via conda - version 0.13.0\n",
    "# CUDA version 11.7"
   ]
  },
  {
   "cell_type": "code",
   "execution_count": null,
   "id": "04d7221b",
   "metadata": {},
   "outputs": [],
   "source": [
    "# Install yolov5 requirements\n",
    "\n",
    "## cd Desktop/yolov5\n",
    "## pip install -r requirements.txt"
   ]
  },
  {
   "cell_type": "markdown",
   "id": "db8c421f",
   "metadata": {},
   "source": [
    "<h3>Import Python Modules</h3>"
   ]
  },
  {
   "cell_type": "code",
   "execution_count": 10,
   "id": "ed065d90",
   "metadata": {},
   "outputs": [],
   "source": [
    "import torch\n",
    "from matplotlib import pyplot as plt\n",
    "import numpy as np\n",
    "import cv2\n",
    "\n",
    "import time\n",
    "import math"
   ]
  },
  {
   "cell_type": "code",
   "execution_count": 2,
   "id": "dc7eb48d",
   "metadata": {},
   "outputs": [
    {
     "name": "stdout",
     "output_type": "stream",
     "text": [
      "True\n",
      "1\n",
      "0\n",
      "<torch.cuda.device object at 0x0000019694F71760>\n",
      "Quadro M1200\n"
     ]
    }
   ],
   "source": [
    "# Check Pytorch Usability\n",
    "\n",
    "print(torch.cuda.is_available())\n",
    "print(torch.cuda.device_count())\n",
    "print(torch.cuda.current_device())\n",
    "print(torch.cuda.device(0))\n",
    "print(torch.cuda.get_device_name(0))"
   ]
  },
  {
   "cell_type": "markdown",
   "id": "a8f1d049",
   "metadata": {},
   "source": [
    "<h3>Check Working Directory</h3>"
   ]
  },
  {
   "cell_type": "code",
   "execution_count": 3,
   "id": "c358da62",
   "metadata": {},
   "outputs": [
    {
     "data": {
      "text/plain": [
       "'C:\\\\Users\\\\Z0142848\\\\Desktop\\\\industrial_vision\\\\yolov5'"
      ]
     },
     "execution_count": 3,
     "metadata": {},
     "output_type": "execute_result"
    }
   ],
   "source": [
    "pwd # Print working directory"
   ]
  },
  {
   "cell_type": "code",
   "execution_count": 4,
   "id": "8bb7cbfb",
   "metadata": {},
   "outputs": [],
   "source": [
    "import os    \n",
    "os.environ['KMP_DUPLICATE_LIB_OK'] = 'True'"
   ]
  },
  {
   "cell_type": "markdown",
   "id": "b2da0717",
   "metadata": {},
   "source": [
    "<h1>2. Load Model</h1>"
   ]
  },
  {
   "cell_type": "code",
   "execution_count": 5,
   "id": "197bfd6f",
   "metadata": {},
   "outputs": [
    {
     "name": "stderr",
     "output_type": "stream",
     "text": [
      "Using cache found in C:\\Users\\Z0142848/.cache\\torch\\hub\\ultralytics_yolov5_master\n",
      "YOLOv5  2022-11-22 Python-3.9.13 torch-1.13.0 CUDA:0 (Quadro M1200, 4096MiB)\n",
      "\n",
      "Fusing layers... \n",
      "YOLOv5n summary: 213 layers, 1867405 parameters, 0 gradients\n",
      "Adding AutoShape... \n"
     ]
    }
   ],
   "source": [
    "# Import module from Ultratytics repo\n",
    "\n",
    "model = torch.hub.load('ultralytics/yolov5', 'yolov5n')\n",
    "#model = torch.hub.load('ultralytics/yolov5', 'yolov5s')"
   ]
  },
  {
   "cell_type": "code",
   "execution_count": 6,
   "id": "127f1614",
   "metadata": {},
   "outputs": [
    {
     "data": {
      "text/plain": [
       "AutoShape(\n",
       "  (model): DetectMultiBackend(\n",
       "    (model): DetectionModel(\n",
       "      (model): Sequential(\n",
       "        (0): Conv(\n",
       "          (conv): Conv2d(3, 16, kernel_size=(6, 6), stride=(2, 2), padding=(2, 2))\n",
       "          (act): SiLU(inplace=True)\n",
       "        )\n",
       "        (1): Conv(\n",
       "          (conv): Conv2d(16, 32, kernel_size=(3, 3), stride=(2, 2), padding=(1, 1))\n",
       "          (act): SiLU(inplace=True)\n",
       "        )\n",
       "        (2): C3(\n",
       "          (cv1): Conv(\n",
       "            (conv): Conv2d(32, 16, kernel_size=(1, 1), stride=(1, 1))\n",
       "            (act): SiLU(inplace=True)\n",
       "          )\n",
       "          (cv2): Conv(\n",
       "            (conv): Conv2d(32, 16, kernel_size=(1, 1), stride=(1, 1))\n",
       "            (act): SiLU(inplace=True)\n",
       "          )\n",
       "          (cv3): Conv(\n",
       "            (conv): Conv2d(32, 32, kernel_size=(1, 1), stride=(1, 1))\n",
       "            (act): SiLU(inplace=True)\n",
       "          )\n",
       "          (m): Sequential(\n",
       "            (0): Bottleneck(\n",
       "              (cv1): Conv(\n",
       "                (conv): Conv2d(16, 16, kernel_size=(1, 1), stride=(1, 1))\n",
       "                (act): SiLU(inplace=True)\n",
       "              )\n",
       "              (cv2): Conv(\n",
       "                (conv): Conv2d(16, 16, kernel_size=(3, 3), stride=(1, 1), padding=(1, 1))\n",
       "                (act): SiLU(inplace=True)\n",
       "              )\n",
       "            )\n",
       "          )\n",
       "        )\n",
       "        (3): Conv(\n",
       "          (conv): Conv2d(32, 64, kernel_size=(3, 3), stride=(2, 2), padding=(1, 1))\n",
       "          (act): SiLU(inplace=True)\n",
       "        )\n",
       "        (4): C3(\n",
       "          (cv1): Conv(\n",
       "            (conv): Conv2d(64, 32, kernel_size=(1, 1), stride=(1, 1))\n",
       "            (act): SiLU(inplace=True)\n",
       "          )\n",
       "          (cv2): Conv(\n",
       "            (conv): Conv2d(64, 32, kernel_size=(1, 1), stride=(1, 1))\n",
       "            (act): SiLU(inplace=True)\n",
       "          )\n",
       "          (cv3): Conv(\n",
       "            (conv): Conv2d(64, 64, kernel_size=(1, 1), stride=(1, 1))\n",
       "            (act): SiLU(inplace=True)\n",
       "          )\n",
       "          (m): Sequential(\n",
       "            (0): Bottleneck(\n",
       "              (cv1): Conv(\n",
       "                (conv): Conv2d(32, 32, kernel_size=(1, 1), stride=(1, 1))\n",
       "                (act): SiLU(inplace=True)\n",
       "              )\n",
       "              (cv2): Conv(\n",
       "                (conv): Conv2d(32, 32, kernel_size=(3, 3), stride=(1, 1), padding=(1, 1))\n",
       "                (act): SiLU(inplace=True)\n",
       "              )\n",
       "            )\n",
       "            (1): Bottleneck(\n",
       "              (cv1): Conv(\n",
       "                (conv): Conv2d(32, 32, kernel_size=(1, 1), stride=(1, 1))\n",
       "                (act): SiLU(inplace=True)\n",
       "              )\n",
       "              (cv2): Conv(\n",
       "                (conv): Conv2d(32, 32, kernel_size=(3, 3), stride=(1, 1), padding=(1, 1))\n",
       "                (act): SiLU(inplace=True)\n",
       "              )\n",
       "            )\n",
       "          )\n",
       "        )\n",
       "        (5): Conv(\n",
       "          (conv): Conv2d(64, 128, kernel_size=(3, 3), stride=(2, 2), padding=(1, 1))\n",
       "          (act): SiLU(inplace=True)\n",
       "        )\n",
       "        (6): C3(\n",
       "          (cv1): Conv(\n",
       "            (conv): Conv2d(128, 64, kernel_size=(1, 1), stride=(1, 1))\n",
       "            (act): SiLU(inplace=True)\n",
       "          )\n",
       "          (cv2): Conv(\n",
       "            (conv): Conv2d(128, 64, kernel_size=(1, 1), stride=(1, 1))\n",
       "            (act): SiLU(inplace=True)\n",
       "          )\n",
       "          (cv3): Conv(\n",
       "            (conv): Conv2d(128, 128, kernel_size=(1, 1), stride=(1, 1))\n",
       "            (act): SiLU(inplace=True)\n",
       "          )\n",
       "          (m): Sequential(\n",
       "            (0): Bottleneck(\n",
       "              (cv1): Conv(\n",
       "                (conv): Conv2d(64, 64, kernel_size=(1, 1), stride=(1, 1))\n",
       "                (act): SiLU(inplace=True)\n",
       "              )\n",
       "              (cv2): Conv(\n",
       "                (conv): Conv2d(64, 64, kernel_size=(3, 3), stride=(1, 1), padding=(1, 1))\n",
       "                (act): SiLU(inplace=True)\n",
       "              )\n",
       "            )\n",
       "            (1): Bottleneck(\n",
       "              (cv1): Conv(\n",
       "                (conv): Conv2d(64, 64, kernel_size=(1, 1), stride=(1, 1))\n",
       "                (act): SiLU(inplace=True)\n",
       "              )\n",
       "              (cv2): Conv(\n",
       "                (conv): Conv2d(64, 64, kernel_size=(3, 3), stride=(1, 1), padding=(1, 1))\n",
       "                (act): SiLU(inplace=True)\n",
       "              )\n",
       "            )\n",
       "            (2): Bottleneck(\n",
       "              (cv1): Conv(\n",
       "                (conv): Conv2d(64, 64, kernel_size=(1, 1), stride=(1, 1))\n",
       "                (act): SiLU(inplace=True)\n",
       "              )\n",
       "              (cv2): Conv(\n",
       "                (conv): Conv2d(64, 64, kernel_size=(3, 3), stride=(1, 1), padding=(1, 1))\n",
       "                (act): SiLU(inplace=True)\n",
       "              )\n",
       "            )\n",
       "          )\n",
       "        )\n",
       "        (7): Conv(\n",
       "          (conv): Conv2d(128, 256, kernel_size=(3, 3), stride=(2, 2), padding=(1, 1))\n",
       "          (act): SiLU(inplace=True)\n",
       "        )\n",
       "        (8): C3(\n",
       "          (cv1): Conv(\n",
       "            (conv): Conv2d(256, 128, kernel_size=(1, 1), stride=(1, 1))\n",
       "            (act): SiLU(inplace=True)\n",
       "          )\n",
       "          (cv2): Conv(\n",
       "            (conv): Conv2d(256, 128, kernel_size=(1, 1), stride=(1, 1))\n",
       "            (act): SiLU(inplace=True)\n",
       "          )\n",
       "          (cv3): Conv(\n",
       "            (conv): Conv2d(256, 256, kernel_size=(1, 1), stride=(1, 1))\n",
       "            (act): SiLU(inplace=True)\n",
       "          )\n",
       "          (m): Sequential(\n",
       "            (0): Bottleneck(\n",
       "              (cv1): Conv(\n",
       "                (conv): Conv2d(128, 128, kernel_size=(1, 1), stride=(1, 1))\n",
       "                (act): SiLU(inplace=True)\n",
       "              )\n",
       "              (cv2): Conv(\n",
       "                (conv): Conv2d(128, 128, kernel_size=(3, 3), stride=(1, 1), padding=(1, 1))\n",
       "                (act): SiLU(inplace=True)\n",
       "              )\n",
       "            )\n",
       "          )\n",
       "        )\n",
       "        (9): SPPF(\n",
       "          (cv1): Conv(\n",
       "            (conv): Conv2d(256, 128, kernel_size=(1, 1), stride=(1, 1))\n",
       "            (act): SiLU(inplace=True)\n",
       "          )\n",
       "          (cv2): Conv(\n",
       "            (conv): Conv2d(512, 256, kernel_size=(1, 1), stride=(1, 1))\n",
       "            (act): SiLU(inplace=True)\n",
       "          )\n",
       "          (m): MaxPool2d(kernel_size=5, stride=1, padding=2, dilation=1, ceil_mode=False)\n",
       "        )\n",
       "        (10): Conv(\n",
       "          (conv): Conv2d(256, 128, kernel_size=(1, 1), stride=(1, 1))\n",
       "          (act): SiLU(inplace=True)\n",
       "        )\n",
       "        (11): Upsample(scale_factor=2.0, mode=nearest)\n",
       "        (12): Concat()\n",
       "        (13): C3(\n",
       "          (cv1): Conv(\n",
       "            (conv): Conv2d(256, 64, kernel_size=(1, 1), stride=(1, 1))\n",
       "            (act): SiLU(inplace=True)\n",
       "          )\n",
       "          (cv2): Conv(\n",
       "            (conv): Conv2d(256, 64, kernel_size=(1, 1), stride=(1, 1))\n",
       "            (act): SiLU(inplace=True)\n",
       "          )\n",
       "          (cv3): Conv(\n",
       "            (conv): Conv2d(128, 128, kernel_size=(1, 1), stride=(1, 1))\n",
       "            (act): SiLU(inplace=True)\n",
       "          )\n",
       "          (m): Sequential(\n",
       "            (0): Bottleneck(\n",
       "              (cv1): Conv(\n",
       "                (conv): Conv2d(64, 64, kernel_size=(1, 1), stride=(1, 1))\n",
       "                (act): SiLU(inplace=True)\n",
       "              )\n",
       "              (cv2): Conv(\n",
       "                (conv): Conv2d(64, 64, kernel_size=(3, 3), stride=(1, 1), padding=(1, 1))\n",
       "                (act): SiLU(inplace=True)\n",
       "              )\n",
       "            )\n",
       "          )\n",
       "        )\n",
       "        (14): Conv(\n",
       "          (conv): Conv2d(128, 64, kernel_size=(1, 1), stride=(1, 1))\n",
       "          (act): SiLU(inplace=True)\n",
       "        )\n",
       "        (15): Upsample(scale_factor=2.0, mode=nearest)\n",
       "        (16): Concat()\n",
       "        (17): C3(\n",
       "          (cv1): Conv(\n",
       "            (conv): Conv2d(128, 32, kernel_size=(1, 1), stride=(1, 1))\n",
       "            (act): SiLU(inplace=True)\n",
       "          )\n",
       "          (cv2): Conv(\n",
       "            (conv): Conv2d(128, 32, kernel_size=(1, 1), stride=(1, 1))\n",
       "            (act): SiLU(inplace=True)\n",
       "          )\n",
       "          (cv3): Conv(\n",
       "            (conv): Conv2d(64, 64, kernel_size=(1, 1), stride=(1, 1))\n",
       "            (act): SiLU(inplace=True)\n",
       "          )\n",
       "          (m): Sequential(\n",
       "            (0): Bottleneck(\n",
       "              (cv1): Conv(\n",
       "                (conv): Conv2d(32, 32, kernel_size=(1, 1), stride=(1, 1))\n",
       "                (act): SiLU(inplace=True)\n",
       "              )\n",
       "              (cv2): Conv(\n",
       "                (conv): Conv2d(32, 32, kernel_size=(3, 3), stride=(1, 1), padding=(1, 1))\n",
       "                (act): SiLU(inplace=True)\n",
       "              )\n",
       "            )\n",
       "          )\n",
       "        )\n",
       "        (18): Conv(\n",
       "          (conv): Conv2d(64, 64, kernel_size=(3, 3), stride=(2, 2), padding=(1, 1))\n",
       "          (act): SiLU(inplace=True)\n",
       "        )\n",
       "        (19): Concat()\n",
       "        (20): C3(\n",
       "          (cv1): Conv(\n",
       "            (conv): Conv2d(128, 64, kernel_size=(1, 1), stride=(1, 1))\n",
       "            (act): SiLU(inplace=True)\n",
       "          )\n",
       "          (cv2): Conv(\n",
       "            (conv): Conv2d(128, 64, kernel_size=(1, 1), stride=(1, 1))\n",
       "            (act): SiLU(inplace=True)\n",
       "          )\n",
       "          (cv3): Conv(\n",
       "            (conv): Conv2d(128, 128, kernel_size=(1, 1), stride=(1, 1))\n",
       "            (act): SiLU(inplace=True)\n",
       "          )\n",
       "          (m): Sequential(\n",
       "            (0): Bottleneck(\n",
       "              (cv1): Conv(\n",
       "                (conv): Conv2d(64, 64, kernel_size=(1, 1), stride=(1, 1))\n",
       "                (act): SiLU(inplace=True)\n",
       "              )\n",
       "              (cv2): Conv(\n",
       "                (conv): Conv2d(64, 64, kernel_size=(3, 3), stride=(1, 1), padding=(1, 1))\n",
       "                (act): SiLU(inplace=True)\n",
       "              )\n",
       "            )\n",
       "          )\n",
       "        )\n",
       "        (21): Conv(\n",
       "          (conv): Conv2d(128, 128, kernel_size=(3, 3), stride=(2, 2), padding=(1, 1))\n",
       "          (act): SiLU(inplace=True)\n",
       "        )\n",
       "        (22): Concat()\n",
       "        (23): C3(\n",
       "          (cv1): Conv(\n",
       "            (conv): Conv2d(256, 128, kernel_size=(1, 1), stride=(1, 1))\n",
       "            (act): SiLU(inplace=True)\n",
       "          )\n",
       "          (cv2): Conv(\n",
       "            (conv): Conv2d(256, 128, kernel_size=(1, 1), stride=(1, 1))\n",
       "            (act): SiLU(inplace=True)\n",
       "          )\n",
       "          (cv3): Conv(\n",
       "            (conv): Conv2d(256, 256, kernel_size=(1, 1), stride=(1, 1))\n",
       "            (act): SiLU(inplace=True)\n",
       "          )\n",
       "          (m): Sequential(\n",
       "            (0): Bottleneck(\n",
       "              (cv1): Conv(\n",
       "                (conv): Conv2d(128, 128, kernel_size=(1, 1), stride=(1, 1))\n",
       "                (act): SiLU(inplace=True)\n",
       "              )\n",
       "              (cv2): Conv(\n",
       "                (conv): Conv2d(128, 128, kernel_size=(3, 3), stride=(1, 1), padding=(1, 1))\n",
       "                (act): SiLU(inplace=True)\n",
       "              )\n",
       "            )\n",
       "          )\n",
       "        )\n",
       "        (24): Detect(\n",
       "          (m): ModuleList(\n",
       "            (0): Conv2d(64, 255, kernel_size=(1, 1), stride=(1, 1))\n",
       "            (1): Conv2d(128, 255, kernel_size=(1, 1), stride=(1, 1))\n",
       "            (2): Conv2d(256, 255, kernel_size=(1, 1), stride=(1, 1))\n",
       "          )\n",
       "        )\n",
       "      )\n",
       "    )\n",
       "  )\n",
       ")"
      ]
     },
     "execution_count": 6,
     "metadata": {},
     "output_type": "execute_result"
    }
   ],
   "source": [
    "# Check Model in Use\n",
    "\n",
    "model"
   ]
  },
  {
   "cell_type": "markdown",
   "id": "9667f420",
   "metadata": {},
   "source": [
    "<h1>3. Make Detections</h1>"
   ]
  },
  {
   "cell_type": "code",
   "execution_count": null,
   "id": "a0064340",
   "metadata": {},
   "outputs": [],
   "source": [
    "# First prediction\n",
    "\n",
    "img = 'https://raw.githubusercontent.com/ultralytics/yolov5/master/data/images/zidane.jpg'"
   ]
  },
  {
   "cell_type": "code",
   "execution_count": null,
   "id": "8c9b9d93",
   "metadata": {},
   "outputs": [],
   "source": [
    "# Make detections of image from model, and print the result\n",
    "\n",
    "results = model(img)\n",
    "results.print()"
   ]
  },
  {
   "cell_type": "code",
   "execution_count": null,
   "id": "e2ce1f11",
   "metadata": {},
   "outputs": [],
   "source": [
    "%matplotlib inline\n",
    "plt.imshow(np.squeeze(results.render()))\n",
    "plt.show()"
   ]
  },
  {
   "cell_type": "code",
   "execution_count": null,
   "id": "68d3f4f2",
   "metadata": {},
   "outputs": [],
   "source": [
    "results.render()"
   ]
  },
  {
   "cell_type": "code",
   "execution_count": null,
   "id": "1c52128c",
   "metadata": {},
   "outputs": [],
   "source": [
    "results.xyxy"
   ]
  },
  {
   "cell_type": "code",
   "execution_count": null,
   "id": "cd345d30",
   "metadata": {},
   "outputs": [],
   "source": [
    "# Second Prediction\n",
    "\n",
    "img2 = 'traffic.jpg'"
   ]
  },
  {
   "cell_type": "code",
   "execution_count": null,
   "id": "6ff0a9fd",
   "metadata": {},
   "outputs": [],
   "source": [
    "results2 = model(img2)\n",
    "%matplotlib inline\n",
    "plt.imshow(np.squeeze(results2.render()))\n",
    "plt.show()"
   ]
  },
  {
   "cell_type": "markdown",
   "id": "a4fb806f",
   "metadata": {},
   "source": [
    "<h1>4. Real Time Detection</h1>"
   ]
  },
  {
   "cell_type": "code",
   "execution_count": null,
   "id": "434404b0",
   "metadata": {},
   "outputs": [],
   "source": [
    "cap = cv2.VideoCapture('traffic0.mp4')\n",
    "startTime = 0\n",
    "while cap.isOpened():\n",
    "    ret, frame = cap.read()\n",
    "    \n",
    "    #Make detections\n",
    "    results = model(frame)\n",
    "    \n",
    "    #results.print()\n",
    "    #cv2.line(np.squeeze(results.render()), (0, 0), (1000, 1000),(0,255,0), 10)\n",
    "    \n",
    "    #FPS\n",
    "    currentTime = time.time()\n",
    "    fps = 1/(currentTime - startTime)\n",
    "    startTime = currentTime\n",
    "    cv2.putText(frame, \"FPS: \" + str(int(fps)), (20, 40), cv2.FONT_HERSHEY_PLAIN, 2, (0,255,0),3)  \n",
    "    \n",
    "    cv2.imshow('YOLO', np.squeeze(results.render()))\n",
    "    #cv2.imshow('YOLO', frame)\n",
    "\n",
    "    if cv2.waitKey(10) & 0xFF == ord('q'): \n",
    "        break\n",
    "cap.release()\n",
    "cv2.destroyAllWindows()"
   ]
  },
  {
   "cell_type": "code",
   "execution_count": 11,
   "id": "5176581c",
   "metadata": {},
   "outputs": [
    {
     "name": "stdout",
     "output_type": "stream",
     "text": [
      "*** DB COMMIT ***\n",
      "92.17917335276988\n",
      "59.464274989274024\n",
      "173.44163283364233\n",
      "205.1828452868319\n",
      "59.64059020499378\n",
      "*** DB COMMIT ***\n",
      "169.95587662684687\n",
      "317.73731288597503\n",
      "98.37174391053561\n",
      "66.18912297349165\n",
      "3.1622776601683795\n",
      "199.56452590578317\n",
      "323.5954264200902\n",
      "*** DB COMMIT ***\n",
      "192.4811679100062\n",
      "406.09974144291203\n",
      "324.56894491001447\n"
     ]
    }
   ],
   "source": [
    "cap = cv2.VideoCapture('traffic0.mp4')\n",
    "#cap = cv2.VideoCapture(0)\n",
    "font = cv2.FONT_HERSHEY_SIMPLEX\n",
    "startTime = 0\n",
    "\n",
    "while cap.isOpened():\n",
    "    ret, frame = cap.read()\n",
    "    distances = []\n",
    "    \n",
    "    #Make detections\n",
    "    results = model(frame)\n",
    "    #results.print()\n",
    "    #cv2.line(frame, (100, 100), (1000, 1000),(255,255,255), 10)\n",
    "    \n",
    "    #cv2.putText(frame, 'FPS: ', (20, 40), font, 1, (0, 255, 255), 2)\n",
    "    #Create the basic black image\n",
    "    #mask = np.zeros(frame.shape[:2], dtype=\"uint8\")\n",
    "    \n",
    "    for i in range(len(results.xyxy[0])):\n",
    "        if i == 0:\n",
    "            iv_centroidX = (results.xyxy[0][i][0].item()+results.xyxy[0][i][2].item())/2\n",
    "            iv_centroidY = (results.xyxy[0][i][1].item()+results.xyxy[0][i][3].item())/2\n",
    "            #cv2.rectangle(mask,(x1,y1),(x2,y2), (COLOR_WHITE), -1)\n",
    "            org1 = (int(iv_centroidX), int(iv_centroidY))\n",
    "            #print(org)\n",
    "            # PRINT CENTROIDS\n",
    "            cv2.circle(frame, org1, 2, (255,255,255), 2)\n",
    "        else:\n",
    "            iv_centroidX = (results.xyxy[0][i][0].item()+results.xyxy[0][i][2].item())/2\n",
    "            iv_centroidY = (results.xyxy[0][i][1].item()+results.xyxy[0][i][3].item())/2\n",
    "            #cv2.rectangle(mask,(x1,y1),(x2,y2), (COLOR_WHITE), -1)\n",
    "            iv_centroidXp = (results.xyxy[0][i-1][0].item()+results.xyxy[0][i-1][2].item())/2\n",
    "            iv_centroidYp = (results.xyxy[0][i-1][1].item()+results.xyxy[0][i-1][3].item())/2\n",
    "            org1 = (int(iv_centroidX), int(iv_centroidY))\n",
    "            org2 = (int(iv_centroidXp), int(iv_centroidYp))\n",
    "            #print(org)\n",
    "            # PRINT CENTROIDS\n",
    "            cv2.circle(frame, org1, 2, (245,245,245), 2)\n",
    "            cv2.line(frame, org1, org2, (255,255,255), 1)\n",
    "            distances.append([org1, org2])\n",
    "        \n",
    "        \n",
    "    #FPS\n",
    "    currentTime = time.time()\n",
    "    fps = 1/(currentTime - startTime)\n",
    "    startTime = currentTime\n",
    "    cv2.putText(frame, \"FPS: \" + str(int(fps)), (20, 40), cv2.FONT_HERSHEY_PLAIN, 2, (0,255,0),3)   \n",
    "    \n",
    "    cv2.imshow('YOLO', np.squeeze(results.render()))\n",
    "    \n",
    "    #for i in range (len(results.xyxy[0])):\n",
    "    #    iv_centroidX = (results.xyxy[0][i][0].item()+results.xyxy[0][i][2].item())/2\n",
    "    #    iv_centroidY = (results.xyxy[0][i][1].item()+results.xyxy[0][i][3].item())/2\n",
    "    #    iv_class = results.xyxy[0][i][5].item()\n",
    "    #    #iv_name = results.xyxy[0][i][6].value()\n",
    "    #    print(iv_centroidX, iv_centroidY)\n",
    "    #    #cv2.circle(np.squeeze(results.render()), (iv_centroid[0], iv_centroid[1]), 20, (255,255,255), 2)\n",
    "    #    #cv2.putText(frame, 'x', (iv_centroidX, iv_centroidY), font, 1, (255, 0, 0), 2)\n",
    "        \n",
    "    if cv2.waitKey(2) & 0xFF == ord('p'):\n",
    "        print(f'*** DB COMMIT ***')\n",
    "        #d=√((x_2-x_1)²+(y_2-y_1)²)\n",
    "        for i in range(len(distances)):\n",
    "            print(f'DISTANCE {1}: {math.sqrt((distances[i][1][0]-distances[i][0][0])**2+(distances[i][1][1]-distances[i][0][1])**2)}')\n",
    "    \n",
    "    \n",
    "    if cv2.waitKey(2) & 0xFF == ord('q'): \n",
    "        break\n",
    "cap.release()\n",
    "cv2.destroyAllWindows()"
   ]
  },
  {
   "cell_type": "markdown",
   "id": "ff13e0c3",
   "metadata": {},
   "source": [
    "<h1>5. Train from Scratch</h1>"
   ]
  },
  {
   "cell_type": "code",
   "execution_count": null,
   "id": "5be332b4",
   "metadata": {},
   "outputs": [],
   "source": [
    "# Import dependencies\n",
    "\n",
    "import uuid\n",
    "import os\n",
    "import time"
   ]
  },
  {
   "cell_type": "code",
   "execution_count": null,
   "id": "07ae72d3",
   "metadata": {},
   "outputs": [],
   "source": [
    "IMAGES_PATH = os.path.join('data', 'images') # Where the images are going to be saved\n",
    "labels = ['tape', 'label', 'citroen', 'peugeot'] # Labels used\n",
    "number_images = 18 # Number of images to take pictures"
   ]
  },
  {
   "cell_type": "code",
   "execution_count": null,
   "id": "51ee7042",
   "metadata": {},
   "outputs": [],
   "source": [
    "cap = cv2.VideoCapture(0)\n",
    "# Loop through labels\n",
    "for label in labels:\n",
    "    print('Collecting images for {}'.format(label))\n",
    "    time.sleep(5)\n",
    "    \n",
    "    #Loop through image range\n",
    "    for img_num in range(number_images):\n",
    "        print('Collecting images for {}, image number {}'.format(label, img_num))\n",
    "        \n",
    "        # Web cam feed\n",
    "        ret, frame = cap.read()\n",
    "        \n",
    "        # Naming out image path\n",
    "        imgname = os.path.join(IMAGES_PATH, label+'.'+str(uuid.uuid1())+'.jpg')\n",
    "        \n",
    "        # Writes out image path\n",
    "        cv2.imwrite(imgname, frame)\n",
    "        \n",
    "        # Render to the screen \n",
    "        cv2.imshow('Image Collection', frame)\n",
    "        \n",
    "        # Give time between capture iteractions\n",
    "        time.sleep(1.5)\n",
    "        \n",
    "        # Break character\n",
    "        if cv2.waitKey(10) & 0xff == ord('q'):\n",
    "            break\n",
    "\n",
    "# Release all windows\n",
    "cap.release()\n",
    "cv2.destroyAllWindows()"
   ]
  },
  {
   "cell_type": "markdown",
   "id": "e718e24b",
   "metadata": {},
   "source": [
    "<h2>Label Images</h2>"
   ]
  },
  {
   "cell_type": "code",
   "execution_count": null,
   "id": "deab9ba8",
   "metadata": {},
   "outputs": [],
   "source": [
    "# Clone git repository for the labeling of images\n",
    "!git clone https://github.com/tzutalin/labelImg"
   ]
  },
  {
   "cell_type": "code",
   "execution_count": null,
   "id": "755fc606",
   "metadata": {},
   "outputs": [],
   "source": [
    "# Install dependencies\n",
    "!pip install pyqt5 lxml --upgrade\n",
    "!cd labelImg && pyrcc5 -o libs/resources.py resources.qrc"
   ]
  },
  {
   "cell_type": "markdown",
   "id": "93561e6f",
   "metadata": {},
   "source": [
    "<h3>Train Model</h3>"
   ]
  },
  {
   "cell_type": "markdown",
   "id": "22a90297",
   "metadata": {},
   "source": [
    "<h5>Explanation of attributes</h5>\n",
    "<ol>\n",
    "    <li><b>batch:</b> batch size</li>\n",
    "    <li><b>epochs:</b> number of epochs to train for</li>\n",
    "    <li><b>data:</b> yaml file that contains info about the dataset (path of images, labels...)</li>\n",
    "    <li><b>workers:</b> number of CPU workers</li>\n",
    "    <li><b>cfg:</b> model architecture</li>\n",
    "    <li><b>weights:</b> pretrained weights we want to start training for</li>\n",
    "    <li><b>name:</b> train logs; weights to be stored on folder names runs/train/name</li>\n",
    "    <li><b>hyp:</b> yaml file that describes hyperparameter choices</li>\n",
    "</ol>"
   ]
  },
  {
   "cell_type": "code",
   "execution_count": null,
   "id": "ccbad53d",
   "metadata": {},
   "outputs": [],
   "source": [
    "!cd yolov5 && python train.py --img 320 --batch 32 --epochs 1000 --data dataset.yaml --weights yolov5s.pt"
   ]
  },
  {
   "cell_type": "markdown",
   "id": "590db059",
   "metadata": {},
   "source": [
    "<h1>6. Load Custom Model</h1>"
   ]
  },
  {
   "cell_type": "code",
   "execution_count": null,
   "id": "be9de519",
   "metadata": {},
   "outputs": [],
   "source": [
    "model = torch.hub.load('ultralytics/yolov5', 'custom', path='yolov5/runs/train/exp9/weights/last.pt', force_reload=True)"
   ]
  },
  {
   "cell_type": "code",
   "execution_count": null,
   "id": "be949e15",
   "metadata": {},
   "outputs": [],
   "source": [
    "test_img = 'label.e6fd052c-5f56-11ed-a1b7-047bcb5a1a09.jpg'\n",
    "img = os.path.join('data', 'images', test_img)\n",
    "results = model(img)\n",
    "results.print()"
   ]
  },
  {
   "cell_type": "code",
   "execution_count": null,
   "id": "1d03b657",
   "metadata": {},
   "outputs": [],
   "source": [
    "%matplotlib inline\n",
    "plt.imshow(np.squeeze(results.render()))\n",
    "plt.show()"
   ]
  },
  {
   "cell_type": "code",
   "execution_count": null,
   "id": "3a79c1ab",
   "metadata": {},
   "outputs": [],
   "source": [
    "cap = cv2.VideoCapture(0)\n",
    "while cap.isOpened():\n",
    "    ret, frame = cap.read()\n",
    "    \n",
    "    #Make detections\n",
    "    results = model(frame)\n",
    "    \n",
    "    cv2.imshow('YOLO', np.squeeze(results.render()))\n",
    "    if cv2.waitKey(10) & 0xFF == ord('q'): \n",
    "        break\n",
    "cap.release()\n",
    "cv2.destroyAllWindows()"
   ]
  },
  {
   "cell_type": "markdown",
   "id": "5cc76905",
   "metadata": {},
   "source": [
    "<h3>Additional Tests</h3>"
   ]
  },
  {
   "cell_type": "code",
   "execution_count": null,
   "id": "9b6c611d",
   "metadata": {},
   "outputs": [],
   "source": [
    "# Crop images detected to an external page\n",
    "crops = results.crop(save=True)\n",
    "crops"
   ]
  },
  {
   "cell_type": "code",
   "execution_count": null,
   "id": "f34e6541",
   "metadata": {},
   "outputs": [],
   "source": [
    "results"
   ]
  },
  {
   "cell_type": "code",
   "execution_count": null,
   "id": "0a14f289",
   "metadata": {},
   "outputs": [],
   "source": [
    "results.pandas().xyxy[0]"
   ]
  },
  {
   "cell_type": "code",
   "execution_count": null,
   "id": "43362179",
   "metadata": {},
   "outputs": [],
   "source": [
    "results.pandas()"
   ]
  },
  {
   "cell_type": "code",
   "execution_count": null,
   "id": "7f10b5fe",
   "metadata": {},
   "outputs": [],
   "source": [
    "# Print coordinates and confidence for names and classes\n",
    "print(results.pandas().xyxy[0].keys())\n",
    "\n",
    "# print(type(results.xyxy[0]))\n",
    "\n",
    "# for tensor in results.xyxy[0]:\n",
    "#     print(tensor[].item())\n",
    "\n",
    "for i in range (len(results.xyxy[0])):\n",
    "    centroid = [(results.xyxy[0][i][0].item()+results.xyxy[0][i][2].item())/2, (results.xyxy[0][i][1].item()+results.xyxy[0][i][3].item())/2]\n",
    "    print(centroid)\n",
    "    #for j in range(len(results.xyxy[0][i])):\n",
    "        #print(results.xyxy[0][i][j])"
   ]
  },
  {
   "cell_type": "code",
   "execution_count": null,
   "id": "08e12044",
   "metadata": {},
   "outputs": [],
   "source": [
    "print(results.xyxy[0][0][0].item())\n",
    "print(results.xyxy[0][0][2].item())\n",
    "print(results.xyxy[0][0][2].item() - results.xyxy[0][0][0].item())"
   ]
  },
  {
   "cell_type": "code",
   "execution_count": null,
   "id": "f355338a",
   "metadata": {},
   "outputs": [],
   "source": [
    "results.xyxy"
   ]
  },
  {
   "cell_type": "code",
   "execution_count": null,
   "id": "81fd1515",
   "metadata": {},
   "outputs": [],
   "source": [
    "import requests\n",
    "requests.get(\"http://google.com\")"
   ]
  }
 ],
 "metadata": {
  "kernelspec": {
   "display_name": "Python 3 (ipykernel)",
   "language": "python",
   "name": "python3"
  },
  "language_info": {
   "codemirror_mode": {
    "name": "ipython",
    "version": 3
   },
   "file_extension": ".py",
   "mimetype": "text/x-python",
   "name": "python",
   "nbconvert_exporter": "python",
   "pygments_lexer": "ipython3",
   "version": "3.9.13"
  }
 },
 "nbformat": 4,
 "nbformat_minor": 5
}
