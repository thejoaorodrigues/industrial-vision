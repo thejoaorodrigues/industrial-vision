{
 "cells": [
  {
   "cell_type": "markdown",
   "id": "49d70d97",
   "metadata": {},
   "source": [
    "<h1>1. Install Dependencies</h1>"
   ]
  },
  {
   "cell_type": "code",
   "execution_count": null,
   "id": "b015bf48",
   "metadata": {},
   "outputs": [],
   "source": [
    "# Clone Ultratytics' yolov5 github repository to the Desktop\n",
    "\n",
    "## git clone https://github.com/ultralytics/yolov5"
   ]
  },
  {
   "cell_type": "code",
   "execution_count": null,
   "id": "e0f93a14",
   "metadata": {},
   "outputs": [],
   "source": [
    "# Install Pytorch via conda\n",
    "# conda config --set ssl_verify false\n",
    "\n",
    "## conda install pytorch torchvision torchaudio pytorch-cuda=11.7 -c pytorch -c nvidia\n",
    "\n",
    "# Python version 3.9.13\n",
    "# Installed Pytorch via conda - version 1.13.0\n",
    "    # import torch\n",
    "    # print(torch.__version__)\n",
    "# Installed torchvision via conda - version 0.14.0\n",
    "    # import torchvision\n",
    "    # print(torchvision.__version__)\n",
    "# Installed torchaudio via conda - version 0.13.0\n",
    "    # import torchaudio\n",
    "    # print(torchaudio.__version__)\n",
    "# CUDA version 11.7\n",
    "    # nvcc --version"
   ]
  },
  {
   "cell_type": "code",
   "execution_count": null,
   "id": "82bb774f",
   "metadata": {},
   "outputs": [],
   "source": [
    "# Install yolov5 requirements\n",
    "\n",
    "## cd Desktop/yolov5\n",
    "## pip install -r requirements.txt"
   ]
  },
  {
   "cell_type": "markdown",
   "id": "863e9e99",
   "metadata": {},
   "source": [
    "<h3>Import Python Modules</h3>"
   ]
  },
  {
   "cell_type": "code",
   "execution_count": 1,
   "id": "7a1611a9",
   "metadata": {},
   "outputs": [],
   "source": [
    "import torch\n",
    "from matplotlib import pyplot as plt\n",
    "import numpy as np\n",
    "import cv2\n",
    "\n",
    "import time\n",
    "import math\n",
    "import datetime\n",
    "from datetime import date\n",
    "import mysql.connector\n",
    "import utils"
   ]
  },
  {
   "cell_type": "code",
   "execution_count": 2,
   "id": "54c0a521",
   "metadata": {},
   "outputs": [
    {
     "name": "stderr",
     "output_type": "stream",
     "text": [
      "YOLOv5  v7.0-31-g443ef7f Python-3.9.13 torch-1.13.0 CUDA:0 (Quadro M1200, 4096MiB)\n"
     ]
    },
    {
     "name": "stdout",
     "output_type": "stream",
     "text": [
      "Setup complete  (8 CPUs, 31.9 GB RAM, 158.6/471.6 GB disk)\n"
     ]
    }
   ],
   "source": [
    "# Check Parameters in Use\n",
    "\n",
    "display = utils.notebook_init()"
   ]
  },
  {
   "cell_type": "code",
   "execution_count": 3,
   "id": "ad85e910",
   "metadata": {},
   "outputs": [
    {
     "name": "stdout",
     "output_type": "stream",
     "text": [
      "True\n",
      "1\n",
      "0\n",
      "<torch.cuda.device object at 0x00000216E1A9D490>\n",
      "Quadro M1200\n"
     ]
    }
   ],
   "source": [
    "# Check Pytorch Usability\n",
    "\n",
    "print(torch.cuda.is_available())\n",
    "print(torch.cuda.device_count())\n",
    "print(torch.cuda.current_device())\n",
    "print(torch.cuda.device(0))\n",
    "print(torch.cuda.get_device_name(0))"
   ]
  },
  {
   "cell_type": "markdown",
   "id": "919763e5",
   "metadata": {},
   "source": [
    "<h3>Check Working Directory</h3>"
   ]
  },
  {
   "cell_type": "code",
   "execution_count": 4,
   "id": "fec3e666",
   "metadata": {},
   "outputs": [
    {
     "data": {
      "text/plain": [
       "'C:\\\\Users\\\\Z0142848\\\\Desktop\\\\industrial_vision\\\\yolov5'"
      ]
     },
     "execution_count": 4,
     "metadata": {},
     "output_type": "execute_result"
    }
   ],
   "source": [
    "pwd # Print working directory"
   ]
  },
  {
   "cell_type": "code",
   "execution_count": 5,
   "id": "a83302b5",
   "metadata": {},
   "outputs": [],
   "source": [
    "import os    \n",
    "os.environ['KMP_DUPLICATE_LIB_OK'] = 'True'"
   ]
  },
  {
   "cell_type": "markdown",
   "id": "0d2ae61f",
   "metadata": {},
   "source": [
    "<h1>2. Infer on COCO-128</h1>"
   ]
  },
  {
   "cell_type": "code",
   "execution_count": 6,
   "id": "2f81e22b",
   "metadata": {},
   "outputs": [],
   "source": [
    "from utils.downloads import attempt_download\n",
    "\n",
    "p5 = ['n', 's', 'm', 'l', 'x'] # P5 models\n",
    "cls = [f'{x}-seg' for x in p5] # segmentation models\n",
    "\n",
    "for x in cls:\n",
    "    attempt_download(f'weights/yolov5{x}.pt')"
   ]
  },
  {
   "cell_type": "code",
   "execution_count": null,
   "id": "3d9d673d",
   "metadata": {},
   "outputs": [],
   "source": [
    "# Download example image\n",
    "\n",
    "import requests\n",
    "image_url = 'https://i.imgur.com/ynOmDwo.jpeg'\n",
    "img_data = requests.get(image_url, verify=False).content\n",
    "with open('cars.jpg', 'wb') as handler:\n",
    "    handler.write(img_data)"
   ]
  },
  {
   "cell_type": "code",
   "execution_count": null,
   "id": "efb47601",
   "metadata": {},
   "outputs": [],
   "source": [
    "!python segment/predict.py --weights ./weights/yolov5s-seg.pt --source cars.jpg\n",
    "display.Image(filename='runs/predict-seg/exp/cars.jpg', width=600)"
   ]
  },
  {
   "cell_type": "code",
   "execution_count": null,
   "id": "001e6271",
   "metadata": {},
   "outputs": [],
   "source": [
    "# !pip install roboflow\n",
    "\n",
    "# from roboflow import Roboflow\n",
    "# rf = Roboflow(api_key=\"slldmx8xrMk1DVWU1sfA\")\n",
    "# project = rf.workspace(\"paul-guerrie-tang1\").project(\"asl-poly-instance-seg\")\n",
    "# dataset = project.version(25).download(\"yolov5\")"
   ]
  },
  {
   "cell_type": "markdown",
   "id": "7cfeb95c",
   "metadata": {},
   "source": [
    "<h1>3. Train Model</h1>"
   ]
  },
  {
   "cell_type": "code",
   "execution_count": null,
   "id": "0c94063e",
   "metadata": {},
   "outputs": [],
   "source": [
    "!python segment/train.py --img 320 --batch 16 --epochs 2 --data ASL_Poly_Instance_Seg_25/data.yaml --weights yolov5s-seg.pt"
   ]
  },
  {
   "cell_type": "code",
   "execution_count": null,
   "id": "07689ff4",
   "metadata": {},
   "outputs": [],
   "source": []
  }
 ],
 "metadata": {
  "kernelspec": {
   "display_name": "Python 3 (ipykernel)",
   "language": "python",
   "name": "python3"
  },
  "language_info": {
   "codemirror_mode": {
    "name": "ipython",
    "version": 3
   },
   "file_extension": ".py",
   "mimetype": "text/x-python",
   "name": "python",
   "nbconvert_exporter": "python",
   "pygments_lexer": "ipython3",
   "version": "3.9.13"
  }
 },
 "nbformat": 4,
 "nbformat_minor": 5
}
